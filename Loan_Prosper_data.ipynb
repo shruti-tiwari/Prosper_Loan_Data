{
 "cells": [
  {
   "cell_type": "markdown",
   "metadata": {},
   "source": [
    "Write-up: PDF or Markdown file that includes links to your Tableau Public workbooks, published online, and a write-up with four sections. See HERE if you need help publishing your Tableau Public Workbook.\n",
    "Summary: in no more than 4 sentences, briefly introduce your data visualization and add any context that can help readers understand it\n",
    "Design: explain any design choices you made including changes to the visualization after collecting feedback\n",
    "Feedback: include all feedback you received from others on your visualization from the first sketch to the final visualization\n",
    "Resources: list any sources you consulted to create your visualization"
   ]
  },
  {
   "cell_type": "code",
   "execution_count": null,
   "metadata": {
    "collapsed": true
   },
   "outputs": [],
   "source": []
  }
 ],
 "metadata": {
  "kernelspec": {
   "display_name": "Python [conda env:udaprogram]",
   "language": "python",
   "name": "conda-env-udaprogram-py"
  },
  "language_info": {
   "codemirror_mode": {
    "name": "ipython",
    "version": 3
   },
   "file_extension": ".py",
   "mimetype": "text/x-python",
   "name": "python",
   "nbconvert_exporter": "python",
   "pygments_lexer": "ipython3",
   "version": "3.6.2"
  }
 },
 "nbformat": 4,
 "nbformat_minor": 2
}
